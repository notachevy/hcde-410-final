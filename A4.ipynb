{
 "cells": [
  {
   "cell_type": "markdown",
   "id": "e949c39e-d830-46db-bfa2-d375680519fd",
   "metadata": {},
   "source": [
    "# Introduction\n",
    "This final project for HCDE 410 gives me an opportunity to pursue something I am passionate about - education. I love education. I have been working with the Electrical and Computer Engineering department at the University of Washington to remake the curriculum in a student-friendly manner. The first class runs during the SUMMER 2022 quarter and I will be TAing it! Although my project will not focus directly on teaching techniques, I hope studying how other nations implement education will make me a better TA and give my students a better experience. \n",
    "\n",
    "The United States has not been at the forefrunt of education for decades as other nations are more innovative and successful than my home country. Exploring what makes nations effective or innefective will be beneficial for educating those in the United States. I hope to create a strong understanding of which policies and strategies are the most effective in benefitting students. My father has been studying to become a teacher for years, so I already know the basics of how teaching works on a personal level. I would like to learn how teaching works on a larger scale as my redesigning of the Electrical and Computer Engineering curriculum is not only focused at the course level, but also the departmental level. Copying successful national policies will make my department stronger and more student-centered (it is convinient these students are humans as this is a human centered design engineering course).\n",
    "\n",
    "\n",
    "\n",
    "\n",
    "\n",
    "\n",
    "\n",
    "\n",
    "# Unknowns and dependencies: Are there any factors outside of your control that might impact your ability to complete this project by the end of the quarter? The purpose of this section is to get you thinking, in a practical sense, about your ability to complete this project within the time allotted.\n",
    "Talking with my classmates helped me pinpoint a large unknown in my project - I need to narrow down the number of columns in my dataset. Most of the datasets have seven columns of information. I will not be using or discussing most of the columns, so noting the importance of the columns I choose to work with will reveal my biases and focus the scope of my work. Unfortunately, I do not know exactly what my project will focus on, but narrowing the scope into something concrete will improve the strength and relevance of my arguments. \n",
    "\n",
    "Visualizations help me to see patterns, but creating the visualizations is sometimes difficult. I do not know if I will create my visualizations in Python or R - I suspect it will come down to which language lets me produce the visualizations faster."
   ]
  },
  {
   "cell_type": "markdown",
   "id": "22aa0d3f-f511-43bc-8cd7-b44780577b5e",
   "metadata": {},
   "source": [
    "## Related Work:\n",
    "The information I will be talking about comes from Our World in Data (https://documents.worldbank.org/en/publication/documents-reports/documentdetail/706141516721172989/global-data-set-on-education-quality-1965-2015 and https://ourworldindata.org/quality-of-education#teacher-quality). \n",
    "\n",
    "Education is inherently complex and riddled with confounding variables. None the less, many politicians believe throwing more money at education guarentees success. Unfortunately, it appears as though education is impacted by more than just money. Cultural aspects impact education as Asia consistently outperforms Europe which consistently outperforms North America (where my home country resides). The different nations focus their spending on different aspects of education. Several nations find success with strong primary education while others focus on tertiary education. The difference between raising everyone up and building an education system to benefit the highest acheivers is largely cultural. \n",
    "\n",
    "Focusing on the PISA in my home country of the United States, it appears as though the nation has a large group of students moderately successful, but the difference between the highest performers and the lowest performs is massive. There is over a 600% difference in the scores of the 90th percentile and 10th percentile on the PISA in the United States. Strangely, the United States spends more money yearly but sees the scores of the 90th percentile decrease while the 10th percentile remains unchanged. From 2000 to 2015, the United States saw no change in the 10th percentile scores and a decrease in the 90th percentile scores while spending an additional 1.2% of its GDP (to bring the total to ~7.5%).\n",
    "\n",
    "Increasing spending and seeing decreasing results is a big reason I want to investigate what fields make a nation effective. I want to increase the effectiveness of the United States Education System by increasing student education and decreasing costs. The saved money can then be used on social programs that will (hopefully) positively compound and further increase the efficiency of the United States Education System."
   ]
  },
  {
   "cell_type": "markdown",
   "id": "513576e7-92f5-418d-9e46-7830596ec517",
   "metadata": {},
   "source": [
    "## Data selected for analysis: \n",
    "The data I am using resides in several datasets that preside on the same \"Our World in Data\" webpage. The Our World in Data webpage is accessible at this link (https://ourworldindata.org/financing-education). The main dataset is part of a research paper written by the World Bank with a public disclosure status. The citation and licensing is viewable at the first link. \n",
    "\n",
    "The dataset comparing money spent per student with student performance is excellent in determining countries with effective teaching methods. The data will not tell me why each country is successful, only that a country is successful. With a list of countries that appear as positive outliers, I can investigate the countries and try to find policies that cause their unusual success. I will then compare spending at different levels across the globe - pre-primary, primary, secondary, and tertiary education.\n",
    "\n",
    "The ethical concerns are minimal, but I need to remember the conclusions I draw are not causal. People are complex, and if a college student could solve the global education crisis alone, someone would have already solved the global education crisis! The relationships I find will hopefully point me in the correct direction, but I need to keep an ethical lense and see the people represented in the dataset as people and not numbers."
   ]
  },
  {
   "cell_type": "markdown",
   "id": "08bd3451-6e15-43c5-b120-62e16f231242",
   "metadata": {},
   "source": [
    "# Research Question:\n",
    "Which level of education (pre-primary, primary, secondary, or tertiary) has the highest correlation to a country's educational success as measured by the PISA in the most recent year data is available, 2014? What are potential causes of this relationship if it is causal?"
   ]
  },
  {
   "cell_type": "markdown",
   "id": "dd6e7fd8-86d3-4c96-aea8-ed1af83d87f8",
   "metadata": {},
   "source": [
    "# Methodology:\n",
    "My methodology will be simple as the point of the analysis is not to draw conclusions but rather point me to what policies might have the largest impact on student success. To begin, I will join datasets from Our World in Data that contain information on a country's PISA score. To test whether a given field is correlated with student success, I will run a least-squares linear regression to find linear relationships that exist. Once the linear regression is finished, I will plot the fields on a chart that shows strength of correlation and direction of correlation. The key for the plot will contain the names of each field and will be color cordinated with their respective point on the chart. \n",
    "\n",
    "Analyzing the correlation between a country's PISA score and money spent per education level and creating a visual to show this value is an appropriate method because no conclusions are drawn. Rather, fields that have a positive correlation and fields that have a negative correlation on student success will be highlighted. Once the fields of interest are determined, further research can be done into understanding if there is any causality, and if so, why. "
   ]
  },
  {
   "cell_type": "markdown",
   "id": "220d10c3-8d0b-486c-90de-64d0f833b675",
   "metadata": {
    "tags": []
   },
   "source": [
    "# Findings:\n",
    "Below is my work to attempt to answer the question: which level of education (pre-primary, primary, secondary, or tertiary) has the highest correlation to a country's educational success as measured by the PISA in the most recent year data is available, 2014? What are potential causes of this relationship if it is causal?"
   ]
  },
  {
   "cell_type": "markdown",
   "id": "7bf6221e-8495-4e64-8ce3-4379068fb1da",
   "metadata": {},
   "source": [
    "### Data cleaning:"
   ]
  },
  {
   "cell_type": "code",
   "execution_count": 89,
   "id": "03b9c58e-3c6c-4417-9138-f7638d4e177b",
   "metadata": {
    "tags": []
   },
   "outputs": [],
   "source": [
    "# import statements\n",
    "import pandas as pd\n",
    "import numpy as np\n",
    "import matplotlib.pyplot as plt"
   ]
  },
  {
   "cell_type": "code",
   "execution_count": 82,
   "id": "0d9a958f-81ad-4b26-8ec0-c4e0233e3fde",
   "metadata": {},
   "outputs": [],
   "source": [
    "# import and read the data from .csv files\n",
    "pisa_data = pd.read_csv('average-reading-performance-in-pisa-and-average-spending-per-student.csv')\n",
    "pre_primary_data = pd.read_csv('government-expenditure-on-pre-primary-education-as-share-of-gdp.csv')\n",
    "primary_data = pd.read_csv('government-expenditure-on-primary-education-as-share-of-gdp.csv')\n",
    "secondary_data = pd.read_csv('government-expenditure-on-secondary-education-as-share-of-gdp.csv')\n",
    "tertiary_data = pd.read_csv('government-expenditure-on-tertiary-education-as-share-of-gdp.csv')"
   ]
  },
  {
   "cell_type": "code",
   "execution_count": 83,
   "id": "87045efd-54ef-4e39-9ecd-a3f4fafa275f",
   "metadata": {},
   "outputs": [],
   "source": [
    "# create a dataframe object from each file\n",
    "pisa_df = pd.DataFrame(pisa_data)\n",
    "pre_primary_df = pd.DataFrame(pre_primary_data)\n",
    "primary_df = pd.DataFrame(primary_data)\n",
    "secondary_df = pd.DataFrame(secondary_data)\n",
    "tertiary_df = pd.DataFrame(tertiary_data)"
   ]
  },
  {
   "cell_type": "code",
   "execution_count": 84,
   "id": "5b67f2f4-1300-4dd4-a1bc-997c6f59cfca",
   "metadata": {},
   "outputs": [],
   "source": [
    "# drop columns that will not be used as suggested by a classmate\n",
    "pisa_df = pisa_df.drop(['Government expenditure per primary student (constant PPP$)', 'Population (historical estimates)'], axis = 1)\n",
    "pre_primary_df = pre_primary_df.drop(['Code'], axis = 1)\n",
    "primary_df = primary_df.drop(['Code'], axis = 1)\n",
    "secondary_df = secondary_df.drop(['Code'], axis = 1)\n",
    "tertiary_df = tertiary_df.drop(['Code'], axis = 1)"
   ]
  },
  {
   "cell_type": "code",
   "execution_count": 85,
   "id": "dd384fe9-8d68-4e30-8257-90faebcd63db",
   "metadata": {},
   "outputs": [],
   "source": [
    "# remove empty values from each dataframe's column of interest\n",
    "pisa_df = pisa_df[pisa_df['PISA: Mean performance on the reading scale'].notna()]\n",
    "pre_primary_df = pre_primary_df[pre_primary_df['Government expenditure on pre-primary education as % of GDP (%)'].notna()]\n",
    "primary_df = primary_df[primary_df['Government expenditure on primary education as % of GDP (%)'].notna()]\n",
    "secondary_df = secondary_df[secondary_df['Government expenditure on secondary education as % of GDP (%)'].notna()]\n",
    "tertiary_df = tertiary_df[tertiary_df['Government expenditure on tertiary education as % of GDP (%)'].notna()]"
   ]
  },
  {
   "cell_type": "code",
   "execution_count": 86,
   "id": "614fb303-6d64-4471-b352-237df699f94f",
   "metadata": {},
   "outputs": [],
   "source": [
    "# group each dataframe by country, and take the most recent data point for each country\n",
    "pisa_df = pisa_df.groupby(['Entity'], dropna = True).max(['Year'])\n",
    "pre_primary_df = pre_primary_df.groupby(['Entity'], dropna = True).max(['Year'])\n",
    "primary_df = primary_df.groupby(['Entity'], dropna = True).max(['Year'])\n",
    "secondary_df = secondary_df.groupby(['Entity'], dropna = True).max(['Year'])\n",
    "tertiary_df = tertiary_df.groupby(['Entity'], dropna = True).max(['Year'])"
   ]
  },
  {
   "cell_type": "code",
   "execution_count": 87,
   "id": "ff882de2-5be9-4d33-a074-60b673dc88ef",
   "metadata": {},
   "outputs": [
    {
     "data": {
      "text/html": [
       "<div>\n",
       "<style scoped>\n",
       "    .dataframe tbody tr th:only-of-type {\n",
       "        vertical-align: middle;\n",
       "    }\n",
       "\n",
       "    .dataframe tbody tr th {\n",
       "        vertical-align: top;\n",
       "    }\n",
       "\n",
       "    .dataframe thead th {\n",
       "        text-align: right;\n",
       "    }\n",
       "</style>\n",
       "<table border=\"1\" class=\"dataframe\">\n",
       "  <thead>\n",
       "    <tr style=\"text-align: right;\">\n",
       "      <th></th>\n",
       "      <th>Year</th>\n",
       "      <th>PISA: Mean performance on the reading scale</th>\n",
       "      <th>Year_preprimary</th>\n",
       "      <th>Government expenditure on pre-primary education as % of GDP (%)</th>\n",
       "      <th>Year_primary</th>\n",
       "      <th>Government expenditure on primary education as % of GDP (%)</th>\n",
       "      <th>Year_secondary</th>\n",
       "      <th>Government expenditure on secondary education as % of GDP (%)</th>\n",
       "      <th>Year_tertiary</th>\n",
       "      <th>Government expenditure on tertiary education as % of GDP (%)</th>\n",
       "    </tr>\n",
       "    <tr>\n",
       "      <th>Entity</th>\n",
       "      <th></th>\n",
       "      <th></th>\n",
       "      <th></th>\n",
       "      <th></th>\n",
       "      <th></th>\n",
       "      <th></th>\n",
       "      <th></th>\n",
       "      <th></th>\n",
       "      <th></th>\n",
       "      <th></th>\n",
       "    </tr>\n",
       "  </thead>\n",
       "  <tbody>\n",
       "    <tr>\n",
       "      <th>Albania</th>\n",
       "      <td>2015</td>\n",
       "      <td>405.258800</td>\n",
       "      <td>NaN</td>\n",
       "      <td>NaN</td>\n",
       "      <td>2013.0</td>\n",
       "      <td>2.01439</td>\n",
       "      <td>2013.0</td>\n",
       "      <td>0.70164</td>\n",
       "      <td>2013.0</td>\n",
       "      <td>0.77585</td>\n",
       "    </tr>\n",
       "    <tr>\n",
       "      <th>Algeria</th>\n",
       "      <td>2015</td>\n",
       "      <td>349.859300</td>\n",
       "      <td>NaN</td>\n",
       "      <td>NaN</td>\n",
       "      <td>2003.0</td>\n",
       "      <td>1.90130</td>\n",
       "      <td>2003.0</td>\n",
       "      <td>2.05297</td>\n",
       "      <td>2008.0</td>\n",
       "      <td>1.16981</td>\n",
       "    </tr>\n",
       "    <tr>\n",
       "      <th>Argentina</th>\n",
       "      <td>2015</td>\n",
       "      <td>425.303100</td>\n",
       "      <td>2013.0</td>\n",
       "      <td>0.43852</td>\n",
       "      <td>2013.0</td>\n",
       "      <td>1.83290</td>\n",
       "      <td>2013.0</td>\n",
       "      <td>2.21926</td>\n",
       "      <td>2013.0</td>\n",
       "      <td>1.08136</td>\n",
       "    </tr>\n",
       "    <tr>\n",
       "      <th>Australia</th>\n",
       "      <td>2015</td>\n",
       "      <td>528.278504</td>\n",
       "      <td>2013.0</td>\n",
       "      <td>0.14418</td>\n",
       "      <td>2013.0</td>\n",
       "      <td>2.04976</td>\n",
       "      <td>2013.0</td>\n",
       "      <td>2.04875</td>\n",
       "      <td>2013.0</td>\n",
       "      <td>1.36765</td>\n",
       "    </tr>\n",
       "    <tr>\n",
       "      <th>Austria</th>\n",
       "      <td>2015</td>\n",
       "      <td>492.056007</td>\n",
       "      <td>2013.0</td>\n",
       "      <td>0.59127</td>\n",
       "      <td>2013.0</td>\n",
       "      <td>1.18733</td>\n",
       "      <td>2013.0</td>\n",
       "      <td>2.74616</td>\n",
       "      <td>2013.0</td>\n",
       "      <td>1.82115</td>\n",
       "    </tr>\n",
       "  </tbody>\n",
       "</table>\n",
       "</div>"
      ],
      "text/plain": [
       "           Year  PISA: Mean performance on the reading scale  Year_preprimary  \\\n",
       "Entity                                                                          \n",
       "Albania    2015                                   405.258800              NaN   \n",
       "Algeria    2015                                   349.859300              NaN   \n",
       "Argentina  2015                                   425.303100           2013.0   \n",
       "Australia  2015                                   528.278504           2013.0   \n",
       "Austria    2015                                   492.056007           2013.0   \n",
       "\n",
       "           Government expenditure on pre-primary education as % of GDP (%)  \\\n",
       "Entity                                                                       \n",
       "Albania                                                  NaN                 \n",
       "Algeria                                                  NaN                 \n",
       "Argentina                                            0.43852                 \n",
       "Australia                                            0.14418                 \n",
       "Austria                                              0.59127                 \n",
       "\n",
       "           Year_primary  \\\n",
       "Entity                    \n",
       "Albania          2013.0   \n",
       "Algeria          2003.0   \n",
       "Argentina        2013.0   \n",
       "Australia        2013.0   \n",
       "Austria          2013.0   \n",
       "\n",
       "           Government expenditure on primary education as % of GDP (%)  \\\n",
       "Entity                                                                   \n",
       "Albania                                              2.01439             \n",
       "Algeria                                              1.90130             \n",
       "Argentina                                            1.83290             \n",
       "Australia                                            2.04976             \n",
       "Austria                                              1.18733             \n",
       "\n",
       "           Year_secondary  \\\n",
       "Entity                      \n",
       "Albania            2013.0   \n",
       "Algeria            2003.0   \n",
       "Argentina          2013.0   \n",
       "Australia          2013.0   \n",
       "Austria            2013.0   \n",
       "\n",
       "           Government expenditure on secondary education as % of GDP (%)  \\\n",
       "Entity                                                                     \n",
       "Albania                                              0.70164               \n",
       "Algeria                                              2.05297               \n",
       "Argentina                                            2.21926               \n",
       "Australia                                            2.04875               \n",
       "Austria                                              2.74616               \n",
       "\n",
       "           Year_tertiary  \\\n",
       "Entity                     \n",
       "Albania           2013.0   \n",
       "Algeria           2008.0   \n",
       "Argentina         2013.0   \n",
       "Australia         2013.0   \n",
       "Austria           2013.0   \n",
       "\n",
       "           Government expenditure on tertiary education as % of GDP (%)  \n",
       "Entity                                                                   \n",
       "Albania                                              0.77585             \n",
       "Algeria                                              1.16981             \n",
       "Argentina                                            1.08136             \n",
       "Australia                                            1.36765             \n",
       "Austria                                              1.82115             "
      ]
     },
     "execution_count": 87,
     "metadata": {},
     "output_type": "execute_result"
    }
   ],
   "source": [
    "# merge individual dataframes to create one dataframe containing all needed information \n",
    "pisa_df = pisa_df.merge(pre_primary_df, how = 'left', on = 'Entity', suffixes = [None, '_preprimary'])\n",
    "pisa_df = pisa_df.merge(primary_df, how = 'left', on = 'Entity', suffixes = [None, '_primary'])\n",
    "pisa_df = pisa_df.merge(secondary_df, how = 'left', on = 'Entity', suffixes = [None, '_secondary'])\n",
    "pisa_df = pisa_df.merge(tertiary_df, how = 'left', on = 'Entity', suffixes = [None, '_tertiary'])\n",
    "\n",
    "# display dataframe to see column names\n",
    "pisa_df.head()"
   ]
  },
  {
   "cell_type": "markdown",
   "id": "5c2152df-0a27-4254-8795-f05318564731",
   "metadata": {},
   "source": [
    "### Caclulating the linear regression:"
   ]
  },
  {
   "cell_type": "code",
   "execution_count": 94,
   "id": "e6f96027-a75a-4492-bb15-507313209bd7",
   "metadata": {},
   "outputs": [
    {
     "name": "stdout",
     "output_type": "stream",
     "text": [
      "[       nan        nan 0.43852001 0.14418    0.59127003 0.36243001\n",
      " 0.66969001 0.59867001 0.88214999 0.22442    0.70766002 0.02682\n",
      " 0.28196001 0.43193001 0.58727998 0.37582001 0.51603001 1.34372997\n",
      " 0.25893    1.05852997 0.77210999 0.68172002 0.39563999 0.45664999\n",
      "        nan 0.15061    0.77767998 0.74028999 0.07505    0.10701\n",
      " 0.73922998 0.48335999 0.10505    0.0364     0.28307           nan\n",
      " 0.72517002 0.96447998        nan 0.18249001 0.81579    0.75108999\n",
      " 0.32617    0.09642    0.50998998 0.06714    0.59885001 1.83028996\n",
      "        nan 0.40419    0.51529998        nan 0.81971002 0.15819\n",
      " 0.60736001 0.56611001 0.39126    0.15039    0.39493999 0.61668003\n",
      " 0.04995           nan 0.48956999 0.66552001 0.17820001 0.69931\n",
      " 1.29136002 0.19519    0.57449001 0.34847999 0.00367    0.01812\n",
      " 0.17642    0.4253     0.36726999 0.44261    0.67966002]\n"
     ]
    }
   ],
   "source": [
    "matrix = np.array(pisa_df.values)\n",
    "\n",
    "pisa = matrix[:, 1]\n",
    "pre_primary = matrix[:, 3]\n",
    "primary = matrix[:, 5]\n",
    "secondary = matrix[:, 7]\n",
    "tertiary = matrix[:, 9]"
   ]
  },
  {
   "cell_type": "code",
   "execution_count": 98,
   "id": "1b6e00c8-3cfb-4498-8567-b824a9ed7aae",
   "metadata": {},
   "outputs": [
    {
     "data": {
      "image/png": "[encoded data removed]",
      "text/plain": [
       "<Figure size 432x288 with 1 Axes>"
      ]
     },
     "metadata": {
      "needs_background": "light"
     },
     "output_type": "display_data"
    }
   ],
   "source": [
    "plt.scatter(pre_primary, pisa)\n",
    "plt.xlabel('Government expenditure on pre-primary education as % of GDP (%)')\n",
    "plt.ylabel('PISA: Mean performance on the reading scale')\n",
    "plt.legend(['Pre-primary education'])\n",
    "plt.title('Pre-primary education vs. PISA score')\n",
    "plt.grid()\n",
    "plt.show()"
   ]
  },
  {
   "cell_type": "code",
   "execution_count": 99,
   "id": "9c0ea283-c295-43df-9779-e16cfbae4486",
   "metadata": {},
   "outputs": [
    {
     "data": {
      "image/png": "[encoded data removed]",
      "text/plain": [
       "<Figure size 432x288 with 1 Axes>"
      ]
     },
     "metadata": {
      "needs_background": "light"
     },
     "output_type": "display_data"
    }
   ],
   "source": [
    "plt.scatter(primary, pisa)\n",
    "plt.xlabel('Government expenditure on primary education as % of GDP (%)')\n",
    "plt.ylabel('PISA: Mean performance on the reading scale')\n",
    "plt.legend(['Primary education'])\n",
    "plt.title('Primary education vs. PISA score')\n",
    "plt.grid()\n",
    "plt.show()"
   ]
  },
  {
   "cell_type": "code",
   "execution_count": 100,
   "id": "584179b8-765e-4f70-ba1a-c75e6967d959",
   "metadata": {},
   "outputs": [
    {
     "data": {
      "image/png": "[encoded data removed]",
      "text/plain": [
       "<Figure size 432x288 with 1 Axes>"
      ]
     },
     "metadata": {
      "needs_background": "light"
     },
     "output_type": "display_data"
    }
   ],
   "source": [
    "plt.scatter(secondary, pisa)\n",
    "plt.xlabel('Government expenditure on secondary education as % of GDP (%)')\n",
    "plt.ylabel('PISA: Mean performance on the reading scale')\n",
    "plt.legend(['Secondary education'])\n",
    "plt.title('Secondary education vs. PISA score')\n",
    "plt.grid()\n",
    "plt.show()"
   ]
  },
  {
   "cell_type": "code",
   "execution_count": 101,
   "id": "01578473-e165-4bd3-a12b-14c57ad44f36",
   "metadata": {},
   "outputs": [
    {
     "data": {
      "image/png": "[encoded data removed]",
      "text/plain": [
       "<Figure size 432x288 with 1 Axes>"
      ]
     },
     "metadata": {
      "needs_background": "light"
     },
     "output_type": "display_data"
    }
   ],
   "source": [
    "plt.scatter(tertiary, pisa)\n",
    "plt.xlabel('Government expenditure on tertiary education as % of GDP (%)')\n",
    "plt.ylabel('PISA: Mean performance on the reading scale')\n",
    "plt.legend(['Tertiary education'])\n",
    "plt.title('Tertiary education vs. PISA score')\n",
    "plt.grid()\n",
    "plt.show()"
   ]
  },
  {
   "cell_type": "markdown",
   "id": "2262b4bd-e1f2-4b3f-9bb5-577a19a8811b",
   "metadata": {},
   "source": [
    "# Discussion:"
   ]
  },
  {
   "cell_type": "markdown",
   "id": "712df111-7a2d-434d-bd01-86db7bcbe3a8",
   "metadata": {},
   "source": [
    "# Conclusion:"
   ]
  },
  {
   "cell_type": "code",
   "execution_count": null,
   "id": "bcae8f9e-79bf-4063-a681-6fc889d3d7ab",
   "metadata": {},
   "outputs": [],
   "source": []
  }
 ],
 "metadata": {
  "kernelspec": {
   "display_name": "Python 3 (ipykernel)",
   "language": "python",
   "name": "python3"
  },
  "language_info": {
   "codemirror_mode": {
    "name": "ipython",
    "version": 3
   },
   "file_extension": ".py",
   "mimetype": "text/x-python",
   "name": "python",
   "nbconvert_exporter": "python",
   "pygments_lexer": "ipython3",
   "version": "3.9.7"
  }
 },
 "nbformat": 4,
 "nbformat_minor": 5
}
