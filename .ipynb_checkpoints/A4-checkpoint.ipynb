{
 "cells": [
  {
   "cell_type": "markdown",
   "id": "e949c39e-d830-46db-bfa2-d375680519fd",
   "metadata": {},
   "source": [
    "# Motivation and problem statement: One or more paragraphs of text that answers the questions:\n",
    "The final project gives me an opportunity to pursue something I am passionate about - education. I love education. I have been working with the Electrical and Computer Engineering department at the University of Washington to remake the curriculum in a student-friendly manner. The first class runs during the SUMMER 2022 quarter and I will be TAing it! Although my project will not focus directly on teaching techniques, I hope studying how other nations implement education will make me a better TA and give my students a better experience. \n",
    "\n",
    "The United States has not been on the forefrunt of education for decades as other nations are more innovative and successful than my home country. Exploring what makes nations effective or innefective will be beneficial for educating those in the United States. I hope to create a strong understanding of which policies and strategies are the most effective in benefitting students. My father has been studying to become a teacher for years, so I already know the basics of how teaching works on a personal level. I would like to learn how teaching works on a larger scale as my redesigning of the ELectrical and Computer Engineering curriculum is not only focused at the course level, but also the departmental level. Implementing successful national policies will make my department stronger and more student-centered (it is convinient these students are humans as this is a human centered design engineering course).\n",
    "\n",
    "\n",
    "\n",
    "# Data selected for analysis: What dataset do you plan to use, and why? \n",
    "The data I hope to use resides in several datasets that preside on the same \"Our World in Data\" webpage. I do not know exactly which datasets I want to use, but I will join any addittional fields with the main dataset that compares governmental expenditure per student and student success. This dataset is accessible at this link (https://documents.worldbank.org/en/publication/documents-reports/documentdetail/706141516721172989/global-data-set-on-education-quality-1965-2015) while the Our World in Data webpage is accessible at this link (https://ourworldindata.org/financing-education). The main dataset is part of a research paper written by the World Bank with a public disclosure status. The citation and licensing is viewable at the first link. \n",
    "\n",
    "The dataset comparing money spent per student with student performance is excellent in determining countries with effective teaching methods. The data will not tell me why each country is successful, only that a country is successful. With a list of countries that appear as positive outliers, I can investigate the countries and try to find policies that cause their unusual success. The other datasets provided by Our World in Data will let me check if (for example) teacher salary or age of primary education impact the students' education greatly. \n",
    "\n",
    "The ethical concerns are minimal, but I need to remember the conclusions I draw are not causal. People are complex, and if a college student could solve the global education crisis alone, someone would have already solved the global education crisis! The relationships I find will hopefully point me in the correct direction, but I need to keep an ethical lense and see the people represented in the dataset as people and not numbers.\n",
    "\n",
    "\n",
    "\n",
    "\n",
    "# Unknowns and dependencies: Are there any factors outside of your control that might impact your ability to complete this project by the end of the quarter? The purpose of this section is to get you thinking, in a practical sense, about your ability to complete this project within the time allotted.\n",
    "Talking with my classmates helped me pinpoint a large unknown in my project - I need to narrow down the number of columns in my dataset. Most of the datasets have seven columns of information. I will not be using or discussing most of the columns so noting the importance of the columns I choose to work with will reveal my biases and focus the scope of my work. Unfortunately, I do not know exactly what my project will focus on, but narrowing the scope into something concrete will improve the strength and relevance of my arguments. \n",
    "\n",
    "Visualizations help me to see patterns, but creating the visualizations is sometimes difficult. I do not know if I will create my visualizations in Python or R - I suspect it will come down to which language lets me produce the visualizations faster."
   ]
  },
  {
   "cell_type": "markdown",
   "id": "08bd3451-6e15-43c5-b120-62e16f231242",
   "metadata": {},
   "source": [
    "# Research Question:\n",
    "What field (of those listed on the Our World in Data page) has the highest correlation to a country's educational success as measured by the PISA?"
   ]
  },
  {
   "cell_type": "markdown",
   "id": "8c057821-65a0-44a4-b15b-c21f2fb20348",
   "metadata": {},
   "source": [
    "# Related Work:\n",
    "The information I will be talking about comes from an Our World in Data page (https://documents.worldbank.org/en/publication/documents-reports/documentdetail/706141516721172989/global-data-set-on-education-quality-1965-2015 and https://ourworldindata.org/quality-of-education#teacher-quality). \n",
    "\n",
    "Education is inherently complex and riddled with confounding variables. None the less, many politicians believe throwing more money at education guarentees success. Unfortunately, it appears as though education is impacted by more than just money. Cultural aspects impact education as Asia consistently outperforms Europe which consistently outperforms North America (where my home country resides). The different nations focus their spending on different aspects of education. Several nations find success with strong primary education while others focus on tertiary education. The difference between raising everyone up and building an education system to benefit the highest acheivers is largely culturall. \n",
    "\n",
    "Focusing on the PISA in my home country of the United States, it appears as though the nation has a large group of students moderately successful, but the difference between the highest performers and the lowest performs is massive. There is over a 600% difference in the scores of the 90th percentile and 10th percentile on the PISA in the United States. Strangely, the United States spends more money yearly but sees the scores of the 90th percentile decrease while the 10th percentile remains unchanged. From 2000 to 2015, the United States saw no change in the 10th percentile scores and a decrease in the 90th percentile scores while spending an additional 1.2% of its GDP (to bring the total to ~7.5%).\n",
    "\n",
    "Increasing spending and seeing decreasing results is a big reason I want to investigate what fields make a nation effective. I want to increase the effectiveness of the United States Education System by increasing student education and decreasing costs. The saved money can then be used on social programs that will (hopefully) positively compound and further increase the efficiency of the United States Education System."
   ]
  },
  {
   "cell_type": "markdown",
   "id": "dd6e7fd8-86d3-4c96-aea8-ed1af83d87f8",
   "metadata": {},
   "source": [
    "# Methodology:\n",
    "My methodology will be simple as the point of the analysis is not to draw conclusions but rather point me to what policies might have the largest impact on student success. To begin, I will join datasets from Our World in Data that contain a field tested against a country's PISA score on each country. To test whether a given field is correlated with student success, I will run a linear regression to find linear and inverse relationships that exist. Once the linear regression is finished, I will plot the fields on an chart that shows strength of correlation and direction (linear or inverse) of correlation. The key for the plot will contain the names of each field and will be color cordinated with their respective point on the chart. \n",
    "\n",
    "Analyzing the correlation between a country's PISA score and other fields listed on the Our World in Data page and creating a visual to show this value is an appropriate method because no conclusions are drawn. Rather, fields that have a positive correlation and fields that have a negative correlation on student success will be highlighted. Once the fields of interest are determined, further research can be done into understanding if there is any causality, and if so, why. "
   ]
  },
  {
   "cell_type": "code",
   "execution_count": null,
   "id": "e55a39f1-f7da-4259-a22e-1fc83aff2144",
   "metadata": {},
   "outputs": [],
   "source": []
  }
 ],
 "metadata": {
  "kernelspec": {
   "display_name": "Python 3 (ipykernel)",
   "language": "python",
   "name": "python3"
  },
  "language_info": {
   "codemirror_mode": {
    "name": "ipython",
    "version": 3
   },
   "file_extension": ".py",
   "mimetype": "text/x-python",
   "name": "python",
   "nbconvert_exporter": "python",
   "pygments_lexer": "ipython3",
   "version": "3.9.7"
  }
 },
 "nbformat": 4,
 "nbformat_minor": 5
}
